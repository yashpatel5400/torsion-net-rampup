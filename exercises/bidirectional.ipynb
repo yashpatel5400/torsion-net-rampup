{
 "cells": [
  {
   "cell_type": "markdown",
   "id": "3a2cd33b",
   "metadata": {},
   "source": [
    "# Bidirectional RNNs\n",
    "This notebook will be a fairly straightforward extension on VanillaRNNs. Make sure you go through that notebook before checking this one, but once you do, this one will be an extremely straightforward modification (just copy & paste your code here as a base before making the corresponding changes)."
   ]
  },
  {
   "cell_type": "code",
   "execution_count": 2,
   "id": "84d334b6",
   "metadata": {},
   "outputs": [
    {
     "data": {
      "text/plain": [
       "<torch._C.Generator at 0x107c4a450>"
      ]
     },
     "execution_count": 2,
     "metadata": {},
     "output_type": "execute_result"
    }
   ],
   "source": [
    "import torch\n",
    "import torch.nn as nn\n",
    "import torch.optim as optim\n",
    "\n",
    "import os\n",
    "import pandas as pd\n",
    "import numpy as np\n",
    "import urllib.request\n",
    "import matplotlib.pyplot as plt\n",
    "from sklearn.preprocessing import MinMaxScaler\n",
    "\n",
    "torch.manual_seed(0)"
   ]
  },
  {
   "cell_type": "code",
   "execution_count": 3,
   "id": "7443ddb2",
   "metadata": {},
   "outputs": [
    {
     "name": "stderr",
     "output_type": "stream",
     "text": [
      "/var/folders/4j/yb1phr856mgf1c7fysrq3_6c0000gs/T/ipykernel_4765/390531928.py:58: FutureWarning: The input object of type 'Tensor' is an array-like implementing one of the corresponding protocols (`__array__`, `__array_interface__` or `__array_struct__`); but not a sequence (or 0-D). In the future, this object will be coerced as if it was first converted using `np.array(obj)`. To retain the old behaviour, you have to either modify the type 'Tensor', or assign to an empty array created with `np.empty(correct_shape, dtype=object)`.\n",
      "  X_train = np.array(X_train)\n",
      "/var/folders/4j/yb1phr856mgf1c7fysrq3_6c0000gs/T/ipykernel_4765/390531928.py:58: VisibleDeprecationWarning: Creating an ndarray from ragged nested sequences (which is a list-or-tuple of lists-or-tuples-or ndarrays with different lengths or shapes) is deprecated. If you meant to do this, you must specify 'dtype=object' when creating the ndarray.\n",
      "  X_train = np.array(X_train)\n",
      "/var/folders/4j/yb1phr856mgf1c7fysrq3_6c0000gs/T/ipykernel_4765/390531928.py:59: FutureWarning: The input object of type 'Tensor' is an array-like implementing one of the corresponding protocols (`__array__`, `__array_interface__` or `__array_struct__`); but not a sequence (or 0-D). In the future, this object will be coerced as if it was first converted using `np.array(obj)`. To retain the old behaviour, you have to either modify the type 'Tensor', or assign to an empty array created with `np.empty(correct_shape, dtype=object)`.\n",
      "  y_train = np.array(y_train)\n",
      "/var/folders/4j/yb1phr856mgf1c7fysrq3_6c0000gs/T/ipykernel_4765/390531928.py:59: VisibleDeprecationWarning: Creating an ndarray from ragged nested sequences (which is a list-or-tuple of lists-or-tuples-or ndarrays with different lengths or shapes) is deprecated. If you meant to do this, you must specify 'dtype=object' when creating the ndarray.\n",
      "  y_train = np.array(y_train)\n"
     ]
    }
   ],
   "source": [
    "def plot_model(model, T, csv_fn):\n",
    "  dataset_test = pd.read_csv(csv_fn)\n",
    "  real_stock_price = dataset_test.iloc[:, 1:2].values\n",
    "\n",
    "  # Getting the predicted stock price of 2017\n",
    "  dataset_total = pd.concat((dataset_train['Open'], dataset_test['Open']), axis = 0)\n",
    "  inputs = dataset_total[len(dataset_total) - len(dataset_test) - 60:].values\n",
    "  inputs = inputs.reshape(-1,1)\n",
    "  inputs = sc.transform(inputs)\n",
    "  X_test = []\n",
    "\n",
    "  for i in range(T, inputs.shape[0]):\n",
    "      X_test.append(torch.tensor(inputs[i-T:i, 0]))\n",
    "\n",
    "  X_test = torch.stack(X_test)\n",
    "  X_test = np.reshape(X_test, (X_test.shape[0], X_test.shape[1], 1))\n",
    "  if model is not None:\n",
    "    predicted_stock_price = model(X_test).detach().numpy()\n",
    "    predicted_stock_price = sc.inverse_transform(predicted_stock_price)\n",
    "\n",
    "  # Visualising the results\n",
    "  plt.plot(real_stock_price, color = 'red', label = 'Real Google Stock Price')\n",
    "  if model is not None:\n",
    "    plt.plot(predicted_stock_price, color = 'blue', label = 'Predicted Google Stock Price')\n",
    "  plt.title('Google Stock Price Prediction')\n",
    "  plt.xlabel('Time')\n",
    "  plt.ylabel('Google Stock Price')\n",
    "  plt.legend()\n",
    "  plt.show()\n",
    "\n",
    "if not os.path.exists(\"Google_Stock_Price_Train.csv\"):\n",
    "    url = \"https://raw.githubusercontent.com/kevincwu0/rnn-google-stock-prediction/master/Google_Stock_Price_Train.csv\"\n",
    "    urllib.request.urlretrieve(url, \"Google_Stock_Price_Train.csv\")\n",
    "\n",
    "if not os.path.exists(\"Google_Stock_Price_Test.csv\"):\n",
    "    url = \"https://raw.githubusercontent.com/kevincwu0/rnn-google-stock-prediction/master/Google_Stock_Price_Test.csv\"\n",
    "    urllib.request.urlretrieve(url, \"Google_Stock_Price_Test.csv\")\n",
    "\n",
    "dataset_train = pd.read_csv('Google_Stock_Price_Train.csv')\n",
    "training_set = dataset_train.iloc[:, 1:2].values \n",
    "\n",
    "sc = MinMaxScaler(feature_range = (0, 1))\n",
    "training_set_scaled = sc.fit_transform(training_set)\n",
    "\n",
    "T = 60\n",
    "D = 1\n",
    "H = 8\n",
    "O = 1\n",
    "\n",
    "num_pts, _ = training_set_scaled.shape\n",
    "X_train = []\n",
    "y_train = []\n",
    "\n",
    "for i in range(T, num_pts):\n",
    "  X_train.append(torch.tensor(training_set_scaled[i-T:i]))\n",
    "  y_train.append(torch.tensor(training_set_scaled[i]))\n",
    "\n",
    "X_train = np.array(X_train)\n",
    "y_train = np.array(y_train)"
   ]
  },
  {
   "cell_type": "markdown",
   "id": "e098d644",
   "metadata": {},
   "source": [
    "Let's visualize the data to get a sense of what it looks like:"
   ]
  },
  {
   "cell_type": "code",
   "execution_count": 4,
   "id": "5aab3709",
   "metadata": {},
   "outputs": [
    {
     "data": {
      "image/png": "[encoded data removed]",
      "text/plain": [
       "<Figure size 432x288 with 1 Axes>"
      ]
     },
     "metadata": {
      "needs_background": "light"
     },
     "output_type": "display_data"
    }
   ],
   "source": [
    "plot_model(None, 60, \"Google_Stock_Price_Train.csv\")"
   ]
  },
  {
   "cell_type": "markdown",
   "id": "765bf721",
   "metadata": {},
   "source": [
    "See the previous notebook for VanillaRNN math and concepts. For bidirectional RNNs, the concept is *exactly* the same, except that we have a forward *and* backward RNN that runs over the data to provide *two* hidden states, which are then concatenated together and multiplied by an output matrix to give the final prediction. In math:\n",
    "\n",
    "\\begin{split}\\begin{aligned}\n",
    "\\overrightarrow{\\mathbf{H}}_t &= \\phi(\\mathbf{X}_t \\mathbf{W}_{xh}^{(f)} + \\overrightarrow{\\mathbf{H}}_{t-1} \\mathbf{W}_{hh}^{(f)}  + \\mathbf{b}_h^{(f)}),\\\\\n",
    "\\overleftarrow{\\mathbf{H}}_t &= \\phi(\\mathbf{X}_t \\mathbf{W}_{xh}^{(b)} + \\overleftarrow{\\mathbf{H}}_{t+1} \\mathbf{W}_{hh}^{(b)}  + \\mathbf{b}_h^{(b)}),\n",
    "\\end{aligned}\\end{split}\n",
    "\n",
    "And as a diagram:\n",
    "\n",
    "[](https://www.researchgate.net/profile/Weijiang-Feng/publication/318332317/figure/fig2/AS:614309566619650@1523474222076/Structure-of-a-bidirectional-RNN.png)\n",
    "\n",
    "Let's go ahead and implement it:"
   ]
  },
  {
   "cell_type": "code",
   "execution_count": 5,
   "id": "b9c0d177",
   "metadata": {},
   "outputs": [],
   "source": [
    "class BidirectionalRNN(nn.Module):\n",
    "    def __init__(self, D, H, O):\n",
    "        super(BidirectionalRNN, self).__init__()\n",
    "        \n",
    "        \"\"\"\n",
    "        TODO: Add the initializations of the relevant weight matrices here. You\n",
    "        should initialize them just as ones matrices. Ignore the bias terms\n",
    "        \"\"\"\n",
    "\n",
    "    def forward(self, x):\n",
    "        \n",
    "        \"\"\"\n",
    "        TODO: Add the implementation of the forward (prediction) step here. \n",
    "        Ignore the bias terms\n",
    "        \"\"\"\n",
    "        \n",
    "        return None"
   ]
  },
  {
   "cell_type": "code",
   "execution_count": 7,
   "id": "d7601839",
   "metadata": {},
   "outputs": [
    {
     "ename": "AttributeError",
     "evalue": "'NoneType' object has no attribute 'data'",
     "output_type": "error",
     "traceback": [
      "\u001b[0;31m---------------------------------------------------------------------------\u001b[0m",
      "\u001b[0;31mAttributeError\u001b[0m                            Traceback (most recent call last)",
      "Input \u001b[0;32mIn [7]\u001b[0m, in \u001b[0;36m<cell line: 8>\u001b[0;34m()\u001b[0m\n\u001b[1;32m      5\u001b[0m O \u001b[38;5;241m=\u001b[39m \u001b[38;5;241m1\u001b[39m\n\u001b[1;32m      7\u001b[0m model \u001b[38;5;241m=\u001b[39m BidirectionalRNN(D, H, O)\n\u001b[0;32m----> 8\u001b[0m prediction \u001b[38;5;241m=\u001b[39m \u001b[43mmodel\u001b[49m\u001b[43m(\u001b[49m\u001b[43mtorch\u001b[49m\u001b[38;5;241;43m.\u001b[39;49m\u001b[43mstack\u001b[49m\u001b[43m(\u001b[49m\u001b[43m[\u001b[49m\u001b[43mX_train\u001b[49m\u001b[43m[\u001b[49m\u001b[38;5;241;43m100\u001b[39;49m\u001b[43m]\u001b[49m\u001b[43m]\u001b[49m\u001b[43m)\u001b[49m\u001b[43m)\u001b[49m\u001b[38;5;241;43m.\u001b[39;49m\u001b[43mdata\u001b[49m[\u001b[38;5;241m0\u001b[39m,\u001b[38;5;241m0\u001b[39m]\u001b[38;5;241m.\u001b[39mnumpy()\n\u001b[1;32m      9\u001b[0m \u001b[38;5;28;01massert\u001b[39;00m(np\u001b[38;5;241m.\u001b[39misclose(prediction, \u001b[38;5;241m8\u001b[39m, atol\u001b[38;5;241m=\u001b[39m\u001b[38;5;241m1e-05\u001b[39m))\n",
      "\u001b[0;31mAttributeError\u001b[0m: 'NoneType' object has no attribute 'data'"
     ]
    }
   ],
   "source": [
    "# Use the below to test your VanillaRNN\n",
    "T = 60\n",
    "D = 1\n",
    "H = 8\n",
    "O = 1\n",
    "\n",
    "model = BidirectionalRNN(D, H, O)\n",
    "prediction = model(torch.stack([X_train[100]])).data[0,0].numpy()\n",
    "assert(np.isclose(prediction, 16, atol=1e-05))"
   ]
  },
  {
   "cell_type": "markdown",
   "id": "23094e90",
   "metadata": {},
   "source": [
    "Great! Now, let's train it using the `X_train` and `y_train`. You'll want to do random sampling of `X_train` and `y_train` to create mini-batches for training. https://stackoverflow.com/questions/19485641/python-random-sample-of-two-arrays-but-matching-indices will be useful for that.\n",
    "\n",
    "For a reference of how to write a training loop, take a look at https://pytorch.org/tutorials/beginner/blitz/cifar10_tutorial.html"
   ]
  },
  {
   "cell_type": "code",
   "execution_count": 8,
   "id": "1e634f7b",
   "metadata": {},
   "outputs": [],
   "source": [
    "\"\"\"\n",
    "TODO: Implement the training loop for your model. Use MSELoss\n",
    "for the loss. Visualize the results in the cell below. You should see\n",
    "near perfect alignment for the first visualization and somewhat decent\n",
    "prediction for the latter\n",
    "\"\"\"\n",
    "\n",
    "model = BidirectionalRNN(D, H, O)"
   ]
  },
  {
   "cell_type": "code",
   "execution_count": 9,
   "id": "9b898270",
   "metadata": {},
   "outputs": [
    {
     "ename": "AttributeError",
     "evalue": "'NoneType' object has no attribute 'detach'",
     "output_type": "error",
     "traceback": [
      "\u001b[0;31m---------------------------------------------------------------------------\u001b[0m",
      "\u001b[0;31mAttributeError\u001b[0m                            Traceback (most recent call last)",
      "Input \u001b[0;32mIn [9]\u001b[0m, in \u001b[0;36m<cell line: 1>\u001b[0;34m()\u001b[0m\n\u001b[0;32m----> 1\u001b[0m \u001b[43mplot_model\u001b[49m\u001b[43m(\u001b[49m\u001b[43mmodel\u001b[49m\u001b[43m,\u001b[49m\u001b[43m \u001b[49m\u001b[43mT\u001b[49m\u001b[43m,\u001b[49m\u001b[43m \u001b[49m\u001b[38;5;124;43m\"\u001b[39;49m\u001b[38;5;124;43mGoogle_Stock_Price_Train.csv\u001b[39;49m\u001b[38;5;124;43m\"\u001b[39;49m\u001b[43m)\u001b[49m \u001b[38;5;66;03m# should be nearly perfectly fit\u001b[39;00m\n\u001b[1;32m      2\u001b[0m plot_model(model, T, \u001b[38;5;124m\"\u001b[39m\u001b[38;5;124mGoogle_Stock_Price_Test.csv\u001b[39m\u001b[38;5;124m\"\u001b[39m)\n",
      "Input \u001b[0;32mIn [3]\u001b[0m, in \u001b[0;36mplot_model\u001b[0;34m(model, T, csv_fn)\u001b[0m\n\u001b[1;32m     16\u001b[0m X_test \u001b[38;5;241m=\u001b[39m np\u001b[38;5;241m.\u001b[39mreshape(X_test, (X_test\u001b[38;5;241m.\u001b[39mshape[\u001b[38;5;241m0\u001b[39m], X_test\u001b[38;5;241m.\u001b[39mshape[\u001b[38;5;241m1\u001b[39m], \u001b[38;5;241m1\u001b[39m))\n\u001b[1;32m     17\u001b[0m \u001b[38;5;28;01mif\u001b[39;00m model \u001b[38;5;129;01mis\u001b[39;00m \u001b[38;5;129;01mnot\u001b[39;00m \u001b[38;5;28;01mNone\u001b[39;00m:\n\u001b[0;32m---> 18\u001b[0m   predicted_stock_price \u001b[38;5;241m=\u001b[39m \u001b[43mmodel\u001b[49m\u001b[43m(\u001b[49m\u001b[43mX_test\u001b[49m\u001b[43m)\u001b[49m\u001b[38;5;241;43m.\u001b[39;49m\u001b[43mdetach\u001b[49m()\u001b[38;5;241m.\u001b[39mnumpy()\n\u001b[1;32m     19\u001b[0m   predicted_stock_price \u001b[38;5;241m=\u001b[39m sc\u001b[38;5;241m.\u001b[39minverse_transform(predicted_stock_price)\n\u001b[1;32m     21\u001b[0m \u001b[38;5;66;03m# Visualising the results\u001b[39;00m\n",
      "\u001b[0;31mAttributeError\u001b[0m: 'NoneType' object has no attribute 'detach'"
     ]
    }
   ],
   "source": [
    "plot_model(model, T, \"Google_Stock_Price_Train.csv\") # should be nearly perfectly fit\n",
    "plot_model(model, T, \"Google_Stock_Price_Test.csv\")"
   ]
  },
  {
   "cell_type": "code",
   "execution_count": null,
   "id": "31292749",
   "metadata": {},
   "outputs": [],
   "source": []
  }
 ],
 "metadata": {
  "kernelspec": {
   "display_name": "Python 3 (ipykernel)",
   "language": "python",
   "name": "python3"
  },
  "language_info": {
   "codemirror_mode": {
    "name": "ipython",
    "version": 3
   },
   "file_extension": ".py",
   "mimetype": "text/x-python",
   "name": "python",
   "nbconvert_exporter": "python",
   "pygments_lexer": "ipython3",
   "version": "3.8.13"
  }
 },
 "nbformat": 4,
 "nbformat_minor": 5
}
