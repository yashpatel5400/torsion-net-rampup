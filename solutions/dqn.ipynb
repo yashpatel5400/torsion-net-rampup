{
 "cells": [
  {
   "cell_type": "markdown",
   "id": "9b21ae2c",
   "metadata": {},
   "source": [
    "# DQN\n",
    "Trying to get DQN to work for MountainCar. Recall that Q learning is an off-policy learning scheme, meaning the TD update (and hence the TD error) is computing by maximizing over the action space. That is, we find:\n",
    "\n",
    "$$ TD = Q(S, A) - (R + \\gamma \\max_A Q(S', A)) $$\n",
    "\n",
    "Where an on-policy would simply have $Q(S', A')$ in place of $\\max_A Q(S', A)$. The two main implementation details that seem to be necessary to get DQNs working are:\n",
    "- Replay buffer: Collect samples in a buffer that gets sampled uniformly at random for training batches. This reduces sample correlation and, therefore, increases training convergence\n",
    "- Separate policy and training networks: The policy network is used to generate samples, which are then used to train the training network. The policy network is updated to the training network after several training steps, which stabilizes the training process"
   ]
  },
  {
   "cell_type": "code",
   "execution_count": 1,
   "id": "7eba34e5",
   "metadata": {},
   "outputs": [],
   "source": [
    "import gym\n",
    "import torch\n",
    "import torch.nn as nn\n",
    "import torch.optim as optim\n",
    "import torch.nn.functional as F\n",
    "\n",
    "import copy\n",
    "import random\n",
    "import numpy as np\n",
    "import pandas as pd\n",
    "import matplotlib.pyplot as plt"
   ]
  },
  {
   "cell_type": "code",
   "execution_count": 2,
   "id": "97372a00",
   "metadata": {},
   "outputs": [],
   "source": [
    "env = gym.make(\"MountainCar-v0\")"
   ]
  },
  {
   "cell_type": "code",
   "execution_count": 3,
   "id": "882de3f7",
   "metadata": {},
   "outputs": [],
   "source": [
    "class DQN(nn.Module):\n",
    "    def __init__(self, S, A):\n",
    "        super(DQN, self).__init__()\n",
    "        \n",
    "        self.S = S\n",
    "        self.A = A\n",
    "        H = 64\n",
    "        \n",
    "        self.d1 = nn.Linear(S, H)\n",
    "        self.d2 = nn.Linear(H, H)\n",
    "        self.d3 = nn.Linear(H, A)\n",
    "        \n",
    "    def forward(self, x):\n",
    "        output = self.d1(x)\n",
    "        output = F.relu(output)\n",
    "        output = self.d2(output)\n",
    "        output = F.relu(output)\n",
    "        output = self.d3(output)\n",
    "        return output"
   ]
  },
  {
   "cell_type": "code",
   "execution_count": 5,
   "id": "ecadac95",
   "metadata": {},
   "outputs": [
    {
     "name": "stdout",
     "output_type": "stream",
     "text": [
      "Epoch : 0 / 200 -- Loss : 0.42277586460113525\n",
      "Epoch : 10 / 200 -- Loss : 0.266987681388855\n",
      "Epoch : 20 / 200 -- Loss : 0.12340264022350311\n",
      "Epoch : 30 / 200 -- Loss : 0.04561480134725571\n",
      "Epoch : 40 / 200 -- Loss : 0.011521858163177967\n",
      "Epoch : 50 / 200 -- Loss : 0.00410460913553834\n",
      "Epoch : 60 / 200 -- Loss : 0.00034728756872937083\n",
      "Epoch : 70 / 200 -- Loss : 0.0007404980133287609\n",
      "Epoch : 80 / 200 -- Loss : 0.0002512590726837516\n",
      "Epoch : 90 / 200 -- Loss : 0.00016991271695587784\n",
      "Epoch : 100 / 200 -- Loss : 9.986878285417333e-05\n",
      "Epoch : 110 / 200 -- Loss : 0.04239533841609955\n",
      "Epoch : 120 / 200 -- Loss : 0.04516718164086342\n",
      "Epoch : 130 / 200 -- Loss : 0.05282340198755264\n",
      "Epoch : 140 / 200 -- Loss : 0.05820326507091522\n",
      "Epoch : 150 / 200 -- Loss : 0.08187833428382874\n",
      "Epoch : 160 / 200 -- Loss : 0.08614504337310791\n",
      "Epoch : 170 / 200 -- Loss : 0.04846261069178581\n",
      "Epoch : 180 / 200 -- Loss : 0.06227394938468933\n",
      "Epoch : 190 / 200 -- Loss : 0.07530735433101654\n"
     ]
    }
   ],
   "source": [
    "episodes = 200\n",
    "epsilon = 0.5\n",
    "gamma = 1.0\n",
    "\n",
    "batch_size = 100\n",
    " \n",
    "S = env.observation_space.shape[0]\n",
    "A = env.action_space.n\n",
    "\n",
    "policy_net = DQN(S, A)\n",
    "training_net = DQN(S, A)\n",
    "\n",
    "loss_criterion = nn.HuberLoss()\n",
    "optimizer = optim.Adam(training_net.parameters())\n",
    "\n",
    "replay_buffer = []\n",
    "\n",
    "losses = []\n",
    "\n",
    "for episode in range(episodes):\n",
    "    if episode > 0 and episode % 100 == 0:\n",
    "        policy_net = copy.deepcopy(training_net)\n",
    "        epsilon /= 2\n",
    "    \n",
    "    done = False\n",
    "    \n",
    "    state = env.reset()\n",
    "    while not done:\n",
    "        if random.random() < epsilon:\n",
    "            action = env.action_space.sample()\n",
    "        else:\n",
    "            action_probs = policy_net(torch.tensor(state))\n",
    "            action = torch.argmax(action_probs).detach().numpy()\n",
    "            \n",
    "        new_state, reward, done, _ = env.step(action)\n",
    "        td_target = reward + gamma * torch.max(policy_net(torch.tensor(new_state)))\n",
    "        \n",
    "        train_sample = (np.array(state), action, td_target.detach().numpy())\n",
    "        replay_buffer.append(train_sample)\n",
    "        \n",
    "        state = new_state\n",
    "    \n",
    "    batch = [random.choice(replay_buffer) for _ in range(batch_size)]\n",
    "    batch_states, batch_actions, batch_targets = list(zip(*batch))\n",
    "    \n",
    "    batch_states = torch.tensor(np.array(batch_states))\n",
    "    batch_actions = torch.tensor(np.array(batch_actions))\n",
    "    batch_targets = torch.tensor(np.array(batch_targets))\n",
    "    \n",
    "    predicted_qs = training_net(batch_states)\n",
    "    predicted_targets = torch.index_select(predicted_qs, 1, batch_actions)\n",
    "    \n",
    "    loss = loss_criterion(predicted_targets, batch_targets)\n",
    "    \n",
    "    optimizer.zero_grad()\n",
    "    loss.backward()\n",
    "    optimizer.step()\n",
    "    \n",
    "    losses.append(loss.detach().numpy())\n",
    "    \n",
    "    if episode % 10 == 0:\n",
    "        print(f\"Epoch : {episode} / {episodes} -- Loss : {loss}\")"
   ]
  },
  {
   "cell_type": "code",
   "execution_count": 6,
   "id": "bba0f8fe",
   "metadata": {},
   "outputs": [
    {
     "data": {
      "image/png": "[encoded data removed]",
      "text/plain": [
       "<Figure size 432x288 with 1 Axes>"
      ]
     },
     "metadata": {
      "needs_background": "light"
     },
     "output_type": "display_data"
    }
   ],
   "source": [
    "plt.plot(range(len(losses)), losses)\n",
    "plt.show()"
   ]
  },
  {
   "cell_type": "code",
   "execution_count": 7,
   "id": "10b5ad33",
   "metadata": {},
   "outputs": [],
   "source": [
    "state = env.reset()\n",
    "done = False\n",
    "while not done:\n",
    "    env.render(mode='rgb_array')\n",
    "    action_probs = policy_net(torch.tensor(state))\n",
    "    action = torch.argmax(action_probs).detach().numpy()\n",
    "    state, _, done, _ = env.step(action)"
   ]
  },
  {
   "cell_type": "code",
   "execution_count": null,
   "id": "00af0091",
   "metadata": {},
   "outputs": [],
   "source": []
  }
 ],
 "metadata": {
  "kernelspec": {
   "display_name": "Python 3 (ipykernel)",
   "language": "python",
   "name": "python3"
  },
  "language_info": {
   "codemirror_mode": {
    "name": "ipython",
    "version": 3
   },
   "file_extension": ".py",
   "mimetype": "text/x-python",
   "name": "python",
   "nbconvert_exporter": "python",
   "pygments_lexer": "ipython3",
   "version": "3.8.13"
  }
 },
 "nbformat": 4,
 "nbformat_minor": 5
}
