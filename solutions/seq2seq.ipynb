{
 "cells": [
  {
   "cell_type": "markdown",
   "id": "baa7d84d",
   "metadata": {},
   "source": [
    "# Seq2Seq\n",
    "Unlike the previous two notebooks, the material in this one (unless you've worked closely with NLP or the like) will likely be new to you. However, the main novelty can be summarized as follows: using RNNs in an encoder/decoder architecture.\n",
    "\n",
    "Encoder/decoders come up *all* the time in deep learning, so it's useful to become familiar with the concept now: there are differences in implementation details of what the encoder and decoder sides looks like, but fundamentally this design pattern is quite common. Let's load in the data.\n",
    "\n",
    "The data loading is more involved this time around, but we'll ignore the details for now. We will ultimately need to see how such work would translate to the AlphaFold case, but let's focus on the model for now:"
   ]
  },
  {
   "cell_type": "code",
   "execution_count": 100,
   "id": "40188727",
   "metadata": {},
   "outputs": [
    {
     "data": {
      "text/plain": [
       "<torch._C.Generator at 0x1056a8f50>"
      ]
     },
     "execution_count": 100,
     "metadata": {},
     "output_type": "execute_result"
    }
   ],
   "source": [
    "import re\n",
    "import os\n",
    "import random\n",
    "import pandas as pd\n",
    "import numpy as np\n",
    "import urllib.request\n",
    "import unicodedata\n",
    "import zipfile\n",
    "import matplotlib.pyplot as plt\n",
    "\n",
    "import torch\n",
    "import torch.nn as nn\n",
    "import torch.optim as optim\n",
    "import torch.functional as F\n",
    "\n",
    "torch.manual_seed(0)"
   ]
  },
  {
   "cell_type": "code",
   "execution_count": 23,
   "id": "89e7b930",
   "metadata": {},
   "outputs": [
    {
     "name": "stdout",
     "output_type": "stream",
     "text": [
      "Reading lines...\n",
      "Read 135842 sentence pairs\n",
      "Trimmed to 10599 sentence pairs\n",
      "Counting words...\n",
      "Counted words:\n",
      "fra 4345\n",
      "eng 2803\n",
      "['tu as trois ans de moins que tom .', 'you re three years younger than tom .']\n"
     ]
    }
   ],
   "source": [
    "SOS_token = 0\n",
    "EOS_token = 1\n",
    "\n",
    "class Lang:\n",
    "    def __init__(self, name):\n",
    "        self.name = name\n",
    "        self.word2index = {}\n",
    "        self.word2count = {}\n",
    "        self.index2word = {0: \"SOS\", 1: \"EOS\"}\n",
    "        self.n_words = 2  # Count SOS and EOS\n",
    "\n",
    "    def addSentence(self, sentence):\n",
    "        for word in sentence.split(' '):\n",
    "            self.addWord(word)\n",
    "\n",
    "    def addWord(self, word):\n",
    "        if word not in self.word2index:\n",
    "            self.word2index[word] = self.n_words\n",
    "            self.word2count[word] = 1\n",
    "            self.index2word[self.n_words] = word\n",
    "            self.n_words += 1\n",
    "        else:\n",
    "            self.word2count[word] += 1\n",
    "\n",
    "# Turn a Unicode string to plain ASCII, thanks to\n",
    "# https://stackoverflow.com/a/518232/2809427\n",
    "def unicodeToAscii(s):\n",
    "    return ''.join(\n",
    "        c for c in unicodedata.normalize('NFD', s)\n",
    "        if unicodedata.category(c) != 'Mn'\n",
    "    )\n",
    "\n",
    "# Lowercase, trim, and remove non-letter characters\n",
    "def normalizeString(s):\n",
    "    s = unicodeToAscii(s.lower().strip())\n",
    "    s = re.sub(r\"([.!?])\", r\" \\1\", s)\n",
    "    s = re.sub(r\"[^a-zA-Z.!?]+\", r\" \", s)\n",
    "    return s\n",
    "\n",
    "def readLangs(lang1, lang2, reverse=False):\n",
    "    print(\"Reading lines...\")\n",
    "\n",
    "    # Read the file and split into lines\n",
    "    lines = open('data/%s-%s.txt' % (lang1, lang2), encoding='utf-8').\\\n",
    "        read().strip().split('\\n')\n",
    "\n",
    "    # Split every line into pairs and normalize\n",
    "    pairs = [[normalizeString(s) for s in l.split('\\t')] for l in lines]\n",
    "\n",
    "    # Reverse pairs, make Lang instances\n",
    "    if reverse:\n",
    "        pairs = [list(reversed(p)) for p in pairs]\n",
    "        input_lang = Lang(lang2)\n",
    "        output_lang = Lang(lang1)\n",
    "    else:\n",
    "        input_lang = Lang(lang1)\n",
    "        output_lang = Lang(lang2)\n",
    "\n",
    "    return input_lang, output_lang, pairs\n",
    "\n",
    "MAX_LENGTH = 10\n",
    "\n",
    "eng_prefixes = (\n",
    "    \"i am \", \"i m \",\n",
    "    \"he is\", \"he s \",\n",
    "    \"she is\", \"she s \",\n",
    "    \"you are\", \"you re \",\n",
    "    \"we are\", \"we re \",\n",
    "    \"they are\", \"they re \"\n",
    ")\n",
    "\n",
    "def filterPair(p):\n",
    "    return len(p[0].split(' ')) < MAX_LENGTH and \\\n",
    "        len(p[1].split(' ')) < MAX_LENGTH and \\\n",
    "        p[1].startswith(eng_prefixes)\n",
    "\n",
    "def filterPairs(pairs):\n",
    "    return [pair for pair in pairs if filterPair(pair)]\n",
    "\n",
    "def prepareData(lang1, lang2, reverse=False):\n",
    "    input_lang, output_lang, pairs = readLangs(lang1, lang2, reverse)\n",
    "    print(\"Read %s sentence pairs\" % len(pairs))\n",
    "    pairs = filterPairs(pairs)\n",
    "    print(\"Trimmed to %s sentence pairs\" % len(pairs))\n",
    "    print(\"Counting words...\")\n",
    "    for pair in pairs:\n",
    "        input_lang.addSentence(pair[0])\n",
    "        output_lang.addSentence(pair[1])\n",
    "    print(\"Counted words:\")\n",
    "    print(input_lang.name, input_lang.n_words)\n",
    "    print(output_lang.name, output_lang.n_words)\n",
    "    return input_lang, output_lang, pairs\n",
    "\n",
    "if not os.path.exists(\"data.zip\"):\n",
    "    url = \"https://download.pytorch.org/tutorial/data.zip\"\n",
    "    urllib.request.urlretrieve(url, \"data.zip\")\n",
    "\n",
    "with zipfile.ZipFile(\"data.zip\", 'r') as zip_ref:\n",
    "    zip_ref.extractall(\".\")\n",
    "    \n",
    "input_lang, output_lang, pairs = prepareData('eng', 'fra', True)\n",
    "print(random.choice(pairs))\n",
    "\n",
    "def indexesFromSentence(lang, sentence):\n",
    "    return [lang.word2index[word] for word in sentence.split(' ')]\n",
    "\n",
    "def tensorFromSentence(lang, sentence):\n",
    "    indexes = indexesFromSentence(lang, sentence)\n",
    "    indexes.append(EOS_token)\n",
    "    return torch.tensor(indexes, dtype=torch.long).view(-1, 1)\n",
    "\n",
    "def tensorsFromPair(pair):\n",
    "    input_tensor = tensorFromSentence(input_lang, pair[0])\n",
    "    target_tensor = tensorFromSentence(output_lang, pair[1])\n",
    "    return (input_tensor, target_tensor)\n",
    "\n",
    "tensor_pairs = [tensorsFromPair(pair) for pair in pairs]"
   ]
  },
  {
   "cell_type": "markdown",
   "id": "f84d4fcf",
   "metadata": {},
   "source": [
    "The `Encoder` takes the data to a context, and the `Decoder` takes the corresponding context to a corresponding prediction of the word:\n",
    "\n",
    "![](https://pytorch.org/tutorials/_images/seq2seq.png)"
   ]
  },
  {
   "cell_type": "code",
   "execution_count": 79,
   "id": "2da97123",
   "metadata": {},
   "outputs": [],
   "source": [
    "class Encoder(nn.Module):\n",
    "    def __init__(self, input_size, hidden_size):\n",
    "        super(Encoder, self).__init__()\n",
    "        \n",
    "        self.embedding = nn.Embedding(input_size, hidden_size)\n",
    "        self.gru = nn.GRU(hidden_size, hidden_size, batch_first=True)\n",
    "        \n",
    "    def forward(self, x, hidden):\n",
    "        # x : N x T x D\n",
    "        N, T, D = x.shape\n",
    "        embedded = self.embedding(x).view(N, T, -1)\n",
    "        _, hn = self.gru(embedded, hidden)\n",
    "        return hn"
   ]
  },
  {
   "cell_type": "code",
   "execution_count": 160,
   "id": "25e7e117",
   "metadata": {},
   "outputs": [
    {
     "name": "stdout",
     "output_type": "stream",
     "text": [
      "tensor([[[ 2.6276e-01, -5.3157e-01, -7.7975e-02, -2.7322e-02, -2.8919e-01,\n",
      "          -3.4967e-01, -2.7164e-01,  3.0436e-01, -1.6347e-01,  3.3912e-01,\n",
      "           3.2405e-01,  3.0346e-01,  2.3303e-01,  4.0442e-01,  1.8525e-01,\n",
      "           1.6073e-01, -6.0982e-02,  4.2513e-01,  4.7486e-01,  3.2823e-01,\n",
      "           3.7248e-01, -4.0489e-01, -1.8733e-01, -4.5082e-01,  1.3365e-02,\n",
      "          -9.3819e-02, -5.8918e-01, -1.9317e-01,  3.4341e-01, -3.3814e-01,\n",
      "           2.8265e-01, -1.9781e-01,  3.4710e-01, -2.4160e-01, -3.3167e-02,\n",
      "          -1.5283e-01,  6.4370e-02, -3.0342e-01, -1.9390e-02,  2.8741e-01,\n",
      "          -1.7436e-01, -1.7797e-01, -3.5446e-01, -7.5787e-02,  4.6263e-01,\n",
      "          -1.0830e-01,  2.9807e-01,  2.2389e-01, -4.8218e-01,  1.3758e-01,\n",
      "          -3.2958e-01,  1.0796e-01, -5.6671e-01,  2.3849e-01, -1.5777e-01,\n",
      "           4.8016e-01, -2.1740e-01,  1.6904e-01,  5.0721e-01, -2.5131e-01,\n",
      "          -1.7875e-01, -5.8413e-02, -3.4966e-01, -7.1773e-02, -2.4233e-01,\n",
      "           7.5876e-02,  4.4134e-01,  1.7846e-02,  3.0656e-02, -1.6927e-01,\n",
      "          -2.2713e-01,  2.7876e-01,  1.0307e-01,  4.9098e-02, -1.9037e-01,\n",
      "          -1.5574e-01, -4.9173e-02, -5.1138e-02,  7.1136e-02,  1.0565e-01,\n",
      "          -2.2907e-01,  1.5396e-02, -1.2663e-01, -5.0085e-01,  1.4643e-02,\n",
      "          -4.5884e-01, -3.6745e-04, -1.7219e-01,  2.4219e-01, -3.8032e-02,\n",
      "          -1.4672e-01,  5.3555e-02,  2.1183e-01,  4.6858e-01,  3.1335e-02,\n",
      "          -4.3924e-01, -4.3228e-01,  1.3543e-01,  5.4603e-01, -3.0040e-01,\n",
      "           1.6682e-01, -1.8074e-01, -2.5554e-01, -3.6795e-01,  1.5985e-01,\n",
      "          -2.7031e-01, -3.9747e-02, -8.4265e-02,  1.5608e-02,  4.2612e-01,\n",
      "           7.2306e-02, -1.7907e-02,  4.1790e-02, -9.5776e-02, -5.7936e-01,\n",
      "          -3.0970e-01, -1.3221e-02, -1.6305e-01, -1.0400e-01,  2.0291e-01,\n",
      "           3.1213e-01, -1.9983e-01,  1.0350e-01, -3.5846e-01,  2.5677e-01,\n",
      "          -2.6012e-01, -8.8653e-02, -2.4474e-02]]], grad_fn=<StackBackward0>)\n"
     ]
    }
   ],
   "source": [
    "N = 1\n",
    "H = 128\n",
    "\n",
    "encoder = Encoder(input_lang.n_words, H)\n",
    "decoder = Decoder(output_lang.n_words, hidden_size)\n",
    "\n",
    "input_tensor = torch.stack([tensor_pairs[k][0] for k in range(10, 10 + N)])\n",
    "init_hidden = torch.zeros((1, N, H))\n",
    "\n",
    "encoded = encoder(input_tensor, init_hidden)\n",
    "\n",
    "print(encoded)"
   ]
  },
  {
   "cell_type": "code",
   "execution_count": 164,
   "id": "962679a4",
   "metadata": {},
   "outputs": [],
   "source": [
    "class Decoder(nn.Module):\n",
    "    def __init__(self, output_size, hidden_size):\n",
    "        super(Decoder, self).__init__()\n",
    "        \n",
    "        self.embedding = nn.Embedding(output_size, hidden_size)\n",
    "        self.gru = nn.GRU(hidden_size, hidden_size, batch_first=True)\n",
    "        self.out = nn.Linear(hidden_size, output_size)\n",
    "        \n",
    "    def forward(self, x, hidden):\n",
    "        N, T, D = x.shape\n",
    "        embedded = self.embedding(x).view(N, T, -1)\n",
    "        output, hn = self.gru(embedded, hidden)\n",
    "        output = self.out(output.view(1, -1))\n",
    "        return output, hn"
   ]
  },
  {
   "cell_type": "code",
   "execution_count": 165,
   "id": "6831ec63",
   "metadata": {},
   "outputs": [],
   "source": [
    "N = 1\n",
    "H = 128\n",
    "\n",
    "encoder = Encoder(input_lang.n_words, H)\n",
    "decoder = Decoder(output_lang.n_words, H)\n",
    "\n",
    "input_tensor = torch.stack([tensor_pairs[k][0] for k in range(10, 10 + N)])\n",
    "output_tensor = torch.stack([tensor_pairs[k][0] for k in range(10, 10 + N)])\n",
    "init_hidden = torch.zeros((1, N, H))\n",
    "\n",
    "encoded = encoder(input_tensor, init_hidden)\n",
    "decoded, decoded_hn = decoder(output_tensor[:,0:1,:], encoded)"
   ]
  },
  {
   "cell_type": "code",
   "execution_count": null,
   "id": "d987889e",
   "metadata": {},
   "outputs": [
    {
     "name": "stderr",
     "output_type": "stream",
     "text": [
      "/var/folders/4j/yb1phr856mgf1c7fysrq3_6c0000gs/T/ipykernel_5125/2227325580.py:44: FutureWarning: The input object of type 'Tensor' is an array-like implementing one of the corresponding protocols (`__array__`, `__array_interface__` or `__array_struct__`); but not a sequence (or 0-D). In the future, this object will be coerced as if it was first converted using `np.array(obj)`. To retain the old behaviour, you have to either modify the type 'Tensor', or assign to an empty array created with `np.empty(correct_shape, dtype=object)`.\n",
      "  prev_word = torch.tensor(np.array([[[prev_word_value]]]))\n"
     ]
    },
    {
     "name": "stdout",
     "output_type": "stream",
     "text": [
      "Epoch : 0/100 -- Loss : 6753.54638671875\n",
      "Epoch : 1/100 -- Loss : 4381.03271484375\n"
     ]
    }
   ],
   "source": [
    "epochs = 100\n",
    "N = 1\n",
    "batch_size = 128\n",
    "learning_rate = 0.01\n",
    "teacher_forcing_prob = 0.5\n",
    "\n",
    "tensor_pairs = np.array(tensor_pairs)\n",
    "\n",
    "encoder = Encoder(input_lang.n_words, H)\n",
    "decoder = Decoder(output_lang.n_words, H)\n",
    "\n",
    "loss_criterion = nn.CrossEntropyLoss()\n",
    "encoder_optim = optim.SGD(encoder.parameters(), lr=learning_rate)\n",
    "decoder_optim = optim.SGD(decoder.parameters(), lr=learning_rate)\n",
    "\n",
    "losses = []\n",
    "\n",
    "for epoch in range(epochs):\n",
    "    idx = np.random.choice(np.arange(len(tensor_pairs)), batch_size, replace=False)\n",
    "    sample = tensor_pairs[idx]\n",
    "    \n",
    "    encoder_optim.zero_grad()\n",
    "    decoder_optim.zero_grad()\n",
    "    \n",
    "    loss = 0\n",
    "    \n",
    "    for pair in sample:\n",
    "        input_sentence = pair[0]\n",
    "        output_sentence = pair[1]\n",
    "        \n",
    "        # context becomes first hidden state of decoder\n",
    "        init_hidden = torch.zeros((1, N, H))\n",
    "        hidden_enc = encoder(torch.unsqueeze(input_sentence, axis=0), init_hidden)\n",
    "        \n",
    "        prev_word = torch.tensor(np.array([[[SOS_token]]]))\n",
    "        hidden_dec = hidden_enc\n",
    "        for word in output_sentence:\n",
    "            predicted_word_probs, hidden_dec = decoder(prev_word, hidden_dec)\n",
    "            \n",
    "            if random.random() < teacher_forcing_prob:\n",
    "                prev_word_value = word\n",
    "            else:\n",
    "                prev_word_value = torch.tensor([[[torch.argmax(predicted_word_probs)]]])\n",
    "            prev_word = torch.tensor(np.array([[[prev_word_value]]]))\n",
    "            \n",
    "            if prev_word[0][0] == EOS_token:\n",
    "                break\n",
    "            \n",
    "            loss += loss_criterion(predicted_word_probs, word)\n",
    "    \n",
    "    loss.backward()\n",
    "    \n",
    "    encoder_optim.step()\n",
    "    decoder_optim.step()\n",
    "    \n",
    "    losses.append(loss.detach().numpy())\n",
    "    \n",
    "    print(f\"Epoch : {epoch}/{epochs} -- Loss : {loss}\")"
   ]
  },
  {
   "cell_type": "code",
   "execution_count": 170,
   "id": "cc70176f",
   "metadata": {},
   "outputs": [
    {
     "data": {
      "image/png": "[encoded data removed]",
      "text/plain": [
       "<Figure size 432x288 with 1 Axes>"
      ]
     },
     "metadata": {
      "needs_background": "light"
     },
     "output_type": "display_data"
    }
   ],
   "source": [
    "plt.plot(range(len(losses)), losses)\n",
    "plt.show()"
   ]
  },
  {
   "cell_type": "code",
   "execution_count": null,
   "id": "9c431062",
   "metadata": {},
   "outputs": [],
   "source": []
  }
 ],
 "metadata": {
  "kernelspec": {
   "display_name": "Python 3 (ipykernel)",
   "language": "python",
   "name": "python3"
  },
  "language_info": {
   "codemirror_mode": {
    "name": "ipython",
    "version": 3
   },
   "file_extension": ".py",
   "mimetype": "text/x-python",
   "name": "python",
   "nbconvert_exporter": "python",
   "pygments_lexer": "ipython3",
   "version": "3.8.13"
  }
 },
 "nbformat": 4,
 "nbformat_minor": 5
}
